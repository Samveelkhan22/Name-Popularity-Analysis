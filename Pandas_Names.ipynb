{
  "nbformat": 4,
  "nbformat_minor": 0,
  "metadata": {
    "colab": {
      "provenance": []
    },
    "kernelspec": {
      "name": "python3",
      "display_name": "Python 3"
    },
    "language_info": {
      "name": "python"
    }
  },
  "cells": [
    {
      "cell_type": "code",
      "execution_count": 1,
      "metadata": {
        "id": "Uj3s9iUq2QgZ"
      },
      "outputs": [],
      "source": [
        "import pandas as pd\n",
        "import matplotlib.pyplot as plt\n",
        "import glob\n",
        "\n",
        "# Load all text files\n",
        "files = glob.glob('yob*.txt')\n",
        "\n",
        "# Combine all files into a single DataFrame\n",
        "data_list = []\n",
        "for file in files:\n",
        "    year = int(file[3:7])\n",
        "    df = pd.read_csv(file, names=['Name', 'Sex', 'Count'])\n",
        "    df['Year'] = year\n",
        "    data_list.append(df)\n",
        "\n",
        "baby_names = pd.concat(data_list, ignore_index=True)\n",
        "\n",
        "# Filter the dataset for the names of interest\n",
        "names_of_interest = ['Sara', 'John']\n",
        "filtered_data = baby_names[baby_names['Name'].isin(names_of_interest)]\n",
        "\n",
        "# Group by year, name, and sex\n",
        "name_trends = filtered_data.groupby(['Year', 'Name', 'Sex']).sum().reset_index()\n",
        "\n",
        "# Create a figure with two subplots\n",
        "fig, axes = plt.subplots(ncols=2, figsize=(15, 6))\n",
        "\n",
        "# Define colors\n",
        "colors = {'Sara': 'orange', 'John': 'blue'}\n",
        "\n",
        "# Plot for Male Names\n",
        "ax = axes[0]\n",
        "for name in names_of_interest:\n",
        "    name_data = name_trends[(name_trends['Name'] == name) & (name_trends['Sex'] == 'M')]\n",
        "    if not name_data.empty:\n",
        "        ax.plot(name_data['Year'], name_data['Count'], label=name, color=colors[name])\n",
        "ax.set_title('JOHN')\n",
        "ax.set_xlabel('Year')\n",
        "ax.set_ylabel('Count')\n",
        "ax.legend()\n",
        "ax.grid(True)\n",
        "\n",
        "# Plot for Female Names\n",
        "ax = axes[1]\n",
        "for name in names_of_interest:\n",
        "    name_data = name_trends[(name_trends['Name'] == name) & (name_trends['Sex'] == 'F')]\n",
        "    if not name_data.empty:\n",
        "        ax.plot(name_data['Year'], name_data['Count'], label=name, color=colors[name])\n",
        "ax.set_title('SARA')\n",
        "ax.set_xlabel('Year')\n",
        "ax.set_ylabel('Count')\n",
        "ax.legend()\n",
        "ax.grid(True)\n",
        "\n",
        "plt.tight_layout()\n",
        "plt.show()\n"
      ]
    }
  ]
}