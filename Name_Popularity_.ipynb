{
  "nbformat": 4,
  "nbformat_minor": 0,
  "metadata": {
    "colab": {
      "provenance": []
    },
    "kernelspec": {
      "name": "python3",
      "display_name": "Python 3"
    },
    "language_info": {
      "name": "python"
    }
  },
  "cells": [
    {
      "cell_type": "code",
      "execution_count": null,
      "metadata": {
        "id": "d-nBN87xy0e2"
      },
      "outputs": [],
      "source": [
        "import pandas as pd\n",
        "import matplotlib.pyplot as plt\n",
        "import glob\n",
        "\n",
        "# Load all text files\n",
        "files = glob.glob('yob*.txt')\n",
        "\n",
        "# Combine all files into a single DataFrame\n",
        "data_list = []\n",
        "for file in files:\n",
        "    year = int(file[3:7])\n",
        "    df = pd.read_csv(file, names=['Name', 'Sex', 'Count'])\n",
        "    df['Year'] = year\n",
        "    data_list.append(df)\n",
        "\n",
        "baby_names = pd.concat(data_list, ignore_index=True)\n",
        "\n",
        "# Filter the dataset for the names of interest\n",
        "names_of_interest = ['Sara', 'John']\n",
        "filtered_data = baby_names[baby_names['Name'].isin(names_of_interest)]\n",
        "\n",
        "# Group by year and name\n",
        "name_trends = filtered_data.groupby(['Year', 'Name']).sum().reset_index()\n",
        "\n",
        "# Plotting the data\n",
        "plt.figure(figsize=(12, 6))\n",
        "\n",
        "for name in names_of_interest:\n",
        "    name_data = name_trends[name_trends['Name'] == name]\n",
        "    plt.plot(name_data['Year'], name_data['Count'], label=name)\n",
        "\n",
        "plt.title('Name popularity by me and a relative, created by SARA LAZO')\n",
        "plt.xlabel('Year')\n",
        "plt.ylabel('Count')\n",
        "plt.legend()\n",
        "plt.grid(True)\n",
        "plt.show()\n"
      ]
    }
  ]
}